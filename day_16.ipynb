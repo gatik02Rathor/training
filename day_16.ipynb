{
 "cells": [
  {
   "cell_type": "code",
   "execution_count": 5,
   "metadata": {},
   "outputs": [
    {
     "name": "stdout",
     "output_type": "stream",
     "text": [
      "Collecting face_recognition\n",
      "  Using cached face_recognition-1.3.0-py2.py3-none-any.whl (15 kB)\n",
      "Requirement already satisfied: face-recognition-models>=0.3.0 in c:\\users\\gatik\\appdata\\local\\packages\\pythonsoftwarefoundation.python.3.10_qbz5n2kfra8p0\\localcache\\local-packages\\python310\\site-packages (from face_recognition) (0.3.0)\n",
      "Collecting Click>=6.0\n",
      "  Using cached click-8.1.3-py3-none-any.whl (96 kB)\n",
      "Requirement already satisfied: dlib>=19.7 in c:\\users\\gatik\\appdata\\local\\packages\\pythonsoftwarefoundation.python.3.10_qbz5n2kfra8p0\\localcache\\local-packages\\python310\\site-packages (from face_recognition) (19.22.99)\n",
      "Requirement already satisfied: Pillow in c:\\users\\gatik\\appdata\\local\\packages\\pythonsoftwarefoundation.python.3.10_qbz5n2kfra8p0\\localcache\\local-packages\\python310\\site-packages (from face_recognition) (9.5.0)\n",
      "Requirement already satisfied: numpy in c:\\users\\gatik\\appdata\\local\\packages\\pythonsoftwarefoundation.python.3.10_qbz5n2kfra8p0\\localcache\\local-packages\\python310\\site-packages (from face_recognition) (1.24.2)\n",
      "Requirement already satisfied: colorama in c:\\users\\gatik\\appdata\\local\\packages\\pythonsoftwarefoundation.python.3.10_qbz5n2kfra8p0\\localcache\\local-packages\\python310\\site-packages (from Click>=6.0->face_recognition) (0.4.6)\n",
      "Installing collected packages: Click, face_recognition\n",
      "Successfully installed Click-8.1.3 face_recognition-1.3.0\n"
     ]
    },
    {
     "name": "stderr",
     "output_type": "stream",
     "text": [
      "\n",
      "[notice] A new release of pip is available: 23.0.1 -> 23.1.2\n",
      "[notice] To update, run: C:\\Users\\gatik\\AppData\\Local\\Microsoft\\WindowsApps\\PythonSoftwareFoundation.Python.3.10_qbz5n2kfra8p0\\python.exe -m pip install --upgrade pip\n"
     ]
    }
   ],
   "source": [
    "!pip install face_recognition"
   ]
  },
  {
   "cell_type": "code",
   "execution_count": 2,
   "metadata": {},
   "outputs": [
    {
     "name": "stdout",
     "output_type": "stream",
     "text": [
      "1\n",
      "2\n",
      "3\n",
      "4\n",
      "5\n",
      "6\n",
      "7\n",
      "8\n",
      "9\n",
      "10\n",
      "11\n",
      "12\n",
      "13\n",
      "14\n",
      "15\n",
      "16\n",
      "17\n",
      "18\n",
      "19\n",
      "20\n"
     ]
    }
   ],
   "source": [
    "import cv2\n",
    "import pandas as pd\n",
    "import face_recognition as fr\n",
    "\n",
    "vid = cv2.VideoCapture(0)\n",
    "fd = cv2.CascadeClassifier(\n",
    "    cv2.data.haarcascades +\n",
    "    'haarcascade_frontalface_default.xml'\n",
    ")\n",
    "\n",
    "try:    \n",
    "    face_db = pd.read_csv('faces_data.tsv', index_col=0, sep='\\t')\n",
    "    data = {\n",
    "        'name':face_db['name'].values.tolist(),\n",
    "        'encoding':face_db['encoding'].values.tolist(),\n",
    "    }\n",
    "except Exception as e:\n",
    "    print(e)\n",
    "    data = {'name':[], 'encoding':[]}\n",
    "\n",
    "names=data['name']\n",
    "enc=data['encoding']\n",
    "frameLimit=20\n",
    "frameCount = 0\n",
    "name = input(\"Enter your name\")\n",
    "while True:\n",
    "    flag, img = vid.read()\n",
    "    if flag:                                                    \n",
    "        faces = fd.detectMultiScale(\n",
    "            cv2.cvtColor(img, cv2.COLOR_BGR2GRAY),\n",
    "            scaleFactor = 1.1,\n",
    "            minNeighbors = 5,\n",
    "            minSize = (50,50)\n",
    "        )\n",
    "        if len(faces) == 1:\n",
    "            x, y, w, h = faces[0]\n",
    "            img_face = img[y:y+h, x:x+w, :].copy()\n",
    "            \n",
    "            img_face = cv2.resize(img_face, (400,400), interpolation=cv2.INTER_CUBIC)\n",
    "            face_encoding = fr.face_encodings(img_face)\n",
    "            if len(face_encoding) == 1:\n",
    "                enc.append(face_encoding[0].tolist())\n",
    "                names.append(name)\n",
    "                frameCount+=1\n",
    "                print(frameCount)\n",
    "                if frameCount==frameLimit:\n",
    "                    data = {'name':names, 'encoding':enc}\n",
    "                    pd.DataFrame(data).to_csv('faces_data.tsv', sep='\\t')\n",
    "                    break\n",
    "            \n",
    "        \n",
    "        cv2.imshow('Preview',img)\n",
    "        key = cv2.waitKey(1)\n",
    "        if key == ord('x'):\n",
    "            break   \n",
    "cv2.destroyAllWindows()\n",
    "vid.release()"
   ]
  },
  {
   "cell_type": "code",
   "execution_count": 4,
   "metadata": {},
   "outputs": [
    {
     "ename": "error",
     "evalue": "OpenCV(4.7.0) :-1: error: (-5:Bad argument) in function 'putText'\n> Overload resolution failed:\n>  - Can't convert object to 'str' for 'text'\n>  - Can't convert object to 'str' for 'text'\n",
     "output_type": "error",
     "traceback": [
      "\u001b[1;31m---------------------------------------------------------------------------\u001b[0m",
      "\u001b[1;31merror\u001b[0m                                     Traceback (most recent call last)",
      "Cell \u001b[1;32mIn[4], line 44\u001b[0m\n\u001b[0;32m     40\u001b[0m             matched \u001b[39m=\u001b[39m fr\u001b[39m.\u001b[39mcompare_faces(\n\u001b[0;32m     41\u001b[0m                 face_encoding, np\u001b[39m.\u001b[39marray(\u001b[39meval\u001b[39m(enc_value))\n\u001b[0;32m     42\u001b[0m             )[\u001b[39m0\u001b[39m]\n\u001b[0;32m     43\u001b[0m             \u001b[39mif\u001b[39;00m matched\u001b[39m==\u001b[39m\u001b[39mTrue\u001b[39;00m:\n\u001b[1;32m---> 44\u001b[0m                 cv2\u001b[39m.\u001b[39;49mputText(\n\u001b[0;32m     45\u001b[0m                     img, data[\u001b[39m'\u001b[39;49m\u001b[39mname\u001b[39;49m\u001b[39m'\u001b[39;49m][ind],\n\u001b[0;32m     46\u001b[0m                     (\u001b[39m50\u001b[39;49m,\u001b[39m50\u001b[39;49m), cv2\u001b[39m.\u001b[39;49mFONT_HERSHEY_SIMPLEX, \u001b[39m1.5\u001b[39;49m,\n\u001b[0;32m     47\u001b[0m                     (\u001b[39m0\u001b[39;49m,\u001b[39m0\u001b[39;49m,\u001b[39m255\u001b[39;49m), \u001b[39m8\u001b[39;49m\n\u001b[0;32m     48\u001b[0m                 )\n\u001b[0;32m     49\u001b[0m                 \u001b[39mbreak\u001b[39;00m\n\u001b[0;32m     51\u001b[0m \u001b[39m# for x,y,w,h in faces:\u001b[39;00m\n\u001b[0;32m     52\u001b[0m \u001b[39m#     cv2.rectangle(\u001b[39;00m\n\u001b[0;32m     53\u001b[0m \u001b[39m#         img, \u001b[39;00m\n\u001b[1;32m   (...)\u001b[0m\n\u001b[0;32m     56\u001b[0m \u001b[39m#         thickness=8\u001b[39;00m\n\u001b[0;32m     57\u001b[0m \u001b[39m#     )\u001b[39;00m\n",
      "\u001b[1;31merror\u001b[0m: OpenCV(4.7.0) :-1: error: (-5:Bad argument) in function 'putText'\n> Overload resolution failed:\n>  - Can't convert object to 'str' for 'text'\n>  - Can't convert object to 'str' for 'text'\n"
     ]
    },
    {
     "ename": "",
     "evalue": "",
     "output_type": "error",
     "traceback": [
      "\u001b[1;31mThe Kernel crashed while executing code in the the current cell or a previous cell. Please review the code in the cell(s) to identify a possible cause of the failure. Click <a href='https://aka.ms/vscodeJupyterKernelCrash'>here</a> for more info. View Jupyter <a href='command:jupyter.viewOutput'>log</a> for further details."
     ]
    }
   ],
   "source": []
  },
  {
   "cell_type": "code",
   "execution_count": null,
   "metadata": {},
   "outputs": [],
   "source": []
  }
 ],
 "metadata": {
  "kernelspec": {
   "display_name": "Python 3",
   "language": "python",
   "name": "python3"
  },
  "language_info": {
   "codemirror_mode": {
    "name": "ipython",
    "version": 3
   },
   "file_extension": ".py",
   "mimetype": "text/x-python",
   "name": "python",
   "nbconvert_exporter": "python",
   "pygments_lexer": "ipython3",
   "version": "3.10.11"
  },
  "orig_nbformat": 4
 },
 "nbformat": 4,
 "nbformat_minor": 2
}
